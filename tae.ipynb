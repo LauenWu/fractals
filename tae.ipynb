{
 "cells": [
  {
   "cell_type": "code",
   "execution_count": 21,
   "metadata": {},
   "outputs": [],
   "source": [
    "import numpy as np\n",
    "\n",
    "a = np.linspace(0,1)"
   ]
  },
  {
   "cell_type": "code",
   "execution_count": 5,
   "metadata": {},
   "outputs": [],
   "source": [
    "from matplotlib import cm\n",
    "import matplotlib.pyplot as plt"
   ]
  },
  {
   "cell_type": "code",
   "execution_count": 20,
   "metadata": {},
   "outputs": [
    {
     "data": {
      "image/png": "[encoded data removed]",
      "text/html": [
       "<div style=\"vertical-align: middle;\"><strong>viridis</strong> </div><div class=\"cmap\"><img alt=\"viridis colormap\" title=\"viridis\" style=\"border: 1px solid #555;\" src=\"data:image/png;base64,iVBORw0KGgoAAAANSUhEUgAAAgAAAABACAYAAABsv8+/AAAAFnRFWHRUaXRsZQB2aXJpZGlzIGNvbG9ybWFwrE0mCwAAABx0RVh0RGVzY3JpcHRpb24AdmlyaWRpcyBjb2xvcm1hcAtjl3IAAAAwdEVYdEF1dGhvcgBNYXRwbG90bGliIHYzLjUuMSwgaHR0cHM6Ly9tYXRwbG90bGliLm9yZ/e3zs8AAAAydEVYdFNvZnR3YXJlAE1hdHBsb3RsaWIgdjMuNS4xLCBodHRwczovL21hdHBsb3RsaWIub3Jn2RFR6AAAAiJJREFUeJzt1kGSmzAURdEv2FqWkP0vJfQgMhQCGceV2Ttn4pL0EVQPum771X5vVVXVWv39XfrPeV193V5zS98f1sf5/fPjey73zu6/3Hv/uz2cz57f9vP68rxO9+/zre7nhvvG+et6vH92bw3PDfcsD+eX59+/53n96f3362/f87/vf5yr93Of72/fPV9P89tX3zGeH3OT8/07Zs+/32+TuXZZD8/VODf8W5uuH/b7vctlfuv7NazH8/t7ZnP7bz2cD3NL+/Ph3Hl+/efz83vWun/vuL++nquH9eu9w/uu6/vvOO49f/8xf77vOj+8b7Y/fMfse9ca/y7nv+d62a++X+f1vt+G/b7u+/u6TxzzS//tc2053QMABBEAABBIAABAIAEAAIEEAAAEEgAAEEgAAEAgAQAAgQQAAAQSAAAQSAAAQCABAACBBAAABBIAABBIAABAIAEAAIEEAAAEEgAAEEgAAEAgAQAAgQQAAAQSAAAQSAAAQCABAACBBAAABBIAABBIAABAIAEAAIEEAAAEEgAAEEgAAEAgAQAAgQQAAAQSAAAQSAAAQCABAACBBAAABBIAABBIAABAIAEAAIEEAAAEEgAAEEgAAEAgAQAAgQQAAAQSAAAQSAAAQCABAACBBAAABBIAABBIAABAIAEAAIEEAAAEEgAAEEgAAEAgAQAAgQQAAAQSAAAQSAAAQCABAACBBAAABBIAABBIAABAoB9ucImHxcKZtAAAAABJRU5ErkJggg==\"></div><div style=\"vertical-align: middle; max-width: 514px; display: flex; justify-content: space-between;\"><div style=\"float: left;\"><div title=\"#440154ff\" style=\"display: inline-block; width: 1em; height: 1em; margin: 0; vertical-align: middle; border: 1px solid #555; background-color: #440154ff;\"></div> under</div><div style=\"margin: 0 auto; display: inline-block;\">bad <div title=\"#00000000\" style=\"display: inline-block; width: 1em; height: 1em; margin: 0; vertical-align: middle; border: 1px solid #555; background-color: #00000000;\"></div></div><div style=\"float: right;\">over <div title=\"#fde725ff\" style=\"display: inline-block; width: 1em; height: 1em; margin: 0; vertical-align: middle; border: 1px solid #555; background-color: #fde725ff;\"></div></div>"
      ],
      "text/plain": [
       "<matplotlib.colors.ListedColormap at 0x27cc2e240d0>"
      ]
     },
     "execution_count": 20,
     "metadata": {},
     "output_type": "execute_result"
    }
   ],
   "source": [
    "a = plt.get_cmap('viridis')\n",
    "a"
   ]
  },
  {
   "cell_type": "code",
   "execution_count": 23,
   "metadata": {},
   "outputs": [
    {
     "data": {
      "text/plain": [
       "0.0"
      ]
     },
     "execution_count": 23,
     "metadata": {},
     "output_type": "execute_result"
    }
   ],
   "source": [
    "import time\n",
    "t = time.time()\n",
    "cm.get_cmap('viridis')(a)\n",
    "time.time()-t"
   ]
  },
  {
   "cell_type": "code",
   "execution_count": 14,
   "metadata": {},
   "outputs": [
    {
     "data": {
      "text/plain": [
       "array([[0.267004, 0.004874, 0.329415],\n",
       "       [0.273809, 0.031497, 0.358853],\n",
       "       [0.278791, 0.062145, 0.386592],\n",
       "       [0.281924, 0.089666, 0.412415],\n",
       "       [0.283197, 0.11568 , 0.436115],\n",
       "       [0.28229 , 0.145912, 0.46151 ],\n",
       "       [0.279574, 0.170599, 0.479997],\n",
       "       [0.275191, 0.194905, 0.496005],\n",
       "       [0.269308, 0.218818, 0.509577],\n",
       "       [0.260571, 0.246922, 0.522828],\n",
       "       [0.252194, 0.269783, 0.531579],\n",
       "       [0.243113, 0.292092, 0.538516],\n",
       "       [0.233603, 0.313828, 0.543914],\n",
       "       [0.223925, 0.334994, 0.548053],\n",
       "       [0.212395, 0.359683, 0.55171 ],\n",
       "       [0.203063, 0.379716, 0.553925],\n",
       "       [0.1941  , 0.399323, 0.555565],\n",
       "       [0.185556, 0.41857 , 0.556753],\n",
       "       [0.175841, 0.44129 , 0.557685],\n",
       "       [0.168126, 0.459988, 0.558082],\n",
       "       [0.160665, 0.47854 , 0.558115],\n",
       "       [0.153364, 0.497   , 0.557724],\n",
       "       [0.14618 , 0.515413, 0.556823],\n",
       "       [0.13777 , 0.537492, 0.554906],\n",
       "       [0.131172, 0.555899, 0.552459],\n",
       "       [0.125394, 0.574318, 0.549086],\n",
       "       [0.121148, 0.592739, 0.544641],\n",
       "       [0.119483, 0.614817, 0.537692],\n",
       "       [0.122312, 0.633153, 0.530398],\n",
       "       [0.130067, 0.651384, 0.521608],\n",
       "       [0.143303, 0.669459, 0.511215],\n",
       "       [0.162016, 0.687316, 0.499129],\n",
       "       [0.19109 , 0.708366, 0.482284],\n",
       "       [0.220124, 0.725509, 0.466226],\n",
       "       [0.252899, 0.742211, 0.448284],\n",
       "       [0.288921, 0.758394, 0.428426],\n",
       "       [0.335885, 0.777018, 0.402049],\n",
       "       [0.377779, 0.791781, 0.377939],\n",
       "       [0.421908, 0.805774, 0.35191 ],\n",
       "       [0.468053, 0.818921, 0.323998],\n",
       "       [0.515992, 0.831158, 0.294279],\n",
       "       [0.575563, 0.844566, 0.256415],\n",
       "       [0.626579, 0.854645, 0.223353],\n",
       "       [0.678489, 0.863742, 0.189503],\n",
       "       [0.730889, 0.871916, 0.156029],\n",
       "       [0.79376 , 0.880678, 0.120005],\n",
       "       [0.845561, 0.887322, 0.099702],\n",
       "       [0.89632 , 0.893616, 0.096335],\n",
       "       [0.945636, 0.899815, 0.112838],\n",
       "       [0.993248, 0.906157, 0.143936]])"
      ]
     },
     "execution_count": 14,
     "metadata": {},
     "output_type": "execute_result"
    }
   ],
   "source": [
    "cm.get_cmap(plt.get_cmap('viridis'))(a)[...,:3]"
   ]
  },
  {
   "cell_type": "code",
   "execution_count": 11,
   "metadata": {},
   "outputs": [
    {
     "data": {
      "text/plain": [
       "(50, 3)"
      ]
     },
     "execution_count": 11,
     "metadata": {},
     "output_type": "execute_result"
    }
   ],
   "source": [
    "cm.get_cmap(plt.get_cmap('viridis'))(a)[np.newaxis, :, :3].shape"
   ]
  }
 ],
 "metadata": {
  "interpreter": {
   "hash": "ce324d166d5386a0853ca61d3b3e4380948a7db6d90a0e5e3a916e0c1617579f"
  },
  "kernelspec": {
   "display_name": "Python 3.8.10 ('openglenv')",
   "language": "python",
   "name": "python3"
  },
  "language_info": {
   "codemirror_mode": {
    "name": "ipython",
    "version": 3
   },
   "file_extension": ".py",
   "mimetype": "text/x-python",
   "name": "python",
   "nbconvert_exporter": "python",
   "pygments_lexer": "ipython3",
   "version": "3.8.10"
  },
  "orig_nbformat": 4
 },
 "nbformat": 4,
 "nbformat_minor": 2
}
